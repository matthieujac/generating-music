{
 "cells": [
  {
   "cell_type": "code",
   "execution_count": 3,
   "id": "7df9dca2",
   "metadata": {},
   "outputs": [],
   "source": [
    "#library for understanding music\n",
    "from music21 import *"
   ]
  },
  {
   "cell_type": "code",
   "execution_count": 4,
   "id": "97701965",
   "metadata": {},
   "outputs": [],
   "source": [
    "#defining function to read MIDI files\n",
    "def read_midi(file):\n",
    "    \n",
    "    print(\"Loading Music File:\",file)\n",
    "    \n",
    "    notes=[]\n",
    "    notes_to_parse = None\n",
    "    \n",
    "    #parsing a midi file\n",
    "    midi = converter.parse(file)\n",
    "  \n",
    "    #grouping based on different instruments\n",
    "    s2 = instrument.partitionByInstrument(midi)\n",
    "\n",
    "    #Looping over all the instruments\n",
    "    for part in s2.parts:\n",
    "    \n",
    "        #select elements of only piano\n",
    "        if 'Piano' in str(part): \n",
    "        \n",
    "            notes_to_parse = part.recurse() \n",
    "      \n",
    "            #finding whether a particular element is note or a chord\n",
    "            for element in notes_to_parse:\n",
    "                \n",
    "                #note\n",
    "                if isinstance(element, note.Note):\n",
    "                    notes.append(str(element.pitch))\n",
    "                \n",
    "                #chord\n",
    "                elif isinstance(element, chord.Chord):\n",
    "                    notes.append('.'.join(str(n) for n in element.normalOrder))\n",
    "\n",
    "    return np.array(notes)"
   ]
  },
  {
   "cell_type": "code",
   "execution_count": 5,
   "id": "25b5812d",
   "metadata": {},
   "outputs": [
    {
     "name": "stdout",
     "output_type": "stream",
     "text": [
      "Loading Music File: Beethoven/beethoven_opus10_1.mid\n"
     ]
    },
    {
     "name": "stderr",
     "output_type": "stream",
     "text": [
      "C:\\Users\\matth\\anaconda3\\lib\\site-packages\\music21\\midi\\translate.py:883: TranslateWarning: Unable to determine instrument from <music21.midi.MidiEvent SEQUENCE_TRACK_NAME, track=5, channel=None, data=b'Copyright \\xa9 2008 by Bernd Krueger'>; getting generic Instrument\n",
      "  warnings.warn(\n"
     ]
    },
    {
     "name": "stdout",
     "output_type": "stream",
     "text": [
      "Loading Music File: Beethoven/beethoven_opus10_2.mid\n",
      "Loading Music File: Beethoven/beethoven_opus10_3.mid\n",
      "Loading Music File: Beethoven/beethoven_opus22_1.mid\n"
     ]
    },
    {
     "name": "stderr",
     "output_type": "stream",
     "text": [
      "C:\\Users\\matth\\anaconda3\\lib\\site-packages\\music21\\midi\\translate.py:883: TranslateWarning: Unable to determine instrument from <music21.midi.MidiEvent SEQUENCE_TRACK_NAME, track=5, channel=None, data=b'Copyright \\xa9 2009 by Bernd Krueger'>; getting generic Instrument\n",
      "  warnings.warn(\n"
     ]
    },
    {
     "name": "stdout",
     "output_type": "stream",
     "text": [
      "Loading Music File: Beethoven/beethoven_opus22_2.mid\n",
      "Loading Music File: Beethoven/beethoven_opus22_3.mid\n",
      "Loading Music File: Beethoven/beethoven_opus22_4.mid\n",
      "Loading Music File: Beethoven/pathetique_1.mid\n"
     ]
    },
    {
     "name": "stderr",
     "output_type": "stream",
     "text": [
      "C:\\Users\\matth\\anaconda3\\lib\\site-packages\\music21\\midi\\translate.py:883: TranslateWarning: Unable to determine instrument from <music21.midi.MidiEvent SEQUENCE_TRACK_NAME, track=4, channel=None, data=b'Beethoven Sonata No. 8 C minor, Grand Sonate path\\xe9tique 1. Movement'>; getting generic Instrument\n",
      "  warnings.warn(\n",
      "C:\\Users\\matth\\anaconda3\\lib\\site-packages\\music21\\midi\\translate.py:883: TranslateWarning: Unable to determine instrument from <music21.midi.MidiEvent SEQUENCE_TRACK_NAME, track=5, channel=None, data=b'Copyright \\xa9 2003 by Bernd Krueger'>; getting generic Instrument\n",
      "  warnings.warn(\n"
     ]
    },
    {
     "name": "stdout",
     "output_type": "stream",
     "text": [
      "Loading Music File: Beethoven/pathetique_2.mid\n"
     ]
    },
    {
     "name": "stderr",
     "output_type": "stream",
     "text": [
      "C:\\Users\\matth\\anaconda3\\lib\\site-packages\\music21\\midi\\translate.py:883: TranslateWarning: Unable to determine instrument from <music21.midi.MidiEvent SEQUENCE_TRACK_NAME, track=6, channel=None, data=b'Beethoven Sonata No. 8 C minor, Grand Sonate path\\xe9tique 2. Movement'>; getting generic Instrument\n",
      "  warnings.warn(\n",
      "C:\\Users\\matth\\anaconda3\\lib\\site-packages\\music21\\midi\\translate.py:883: TranslateWarning: Unable to determine instrument from <music21.midi.MidiEvent SEQUENCE_TRACK_NAME, track=7, channel=None, data=b'Copyright \\xa9 2003 by Bernd Krueger'>; getting generic Instrument\n",
      "  warnings.warn(\n"
     ]
    },
    {
     "name": "stdout",
     "output_type": "stream",
     "text": [
      "Loading Music File: Beethoven/pathetique_3.mid\n"
     ]
    },
    {
     "name": "stderr",
     "output_type": "stream",
     "text": [
      "C:\\Users\\matth\\anaconda3\\lib\\site-packages\\music21\\midi\\translate.py:883: TranslateWarning: Unable to determine instrument from <music21.midi.MidiEvent SEQUENCE_TRACK_NAME, track=4, channel=None, data=b'Beethoven Sonata No. 8 C minor, Grand Sonate path\\xe9tique 3. Movement'>; getting generic Instrument\n",
      "  warnings.warn(\n",
      "C:\\Users\\matth\\AppData\\Local\\Temp\\ipykernel_24772\\1273035479.py:14: VisibleDeprecationWarning: Creating an ndarray from ragged nested sequences (which is a list-or-tuple of lists-or-tuples-or ndarrays with different lengths or shapes) is deprecated. If you meant to do this, you must specify 'dtype=object' when creating the ndarray.\n",
      "  notes_array = np.array([read_midi(path+i) for i in files])\n"
     ]
    }
   ],
   "source": [
    "#for listing down the file names\n",
    "import os\n",
    "\n",
    "#Array Processing\n",
    "import numpy as np\n",
    "\n",
    "#specify the path\n",
    "path='Beethoven/'\n",
    "\n",
    "#read all the filenames\n",
    "files=[i for i in os.listdir(path) if i.endswith(\".mid\")]\n",
    "\n",
    "#reading each midi file\n",
    "notes_array = np.array([read_midi(path+i) for i in files])"
   ]
  },
  {
   "cell_type": "code",
   "execution_count": 6,
   "id": "e7209291",
   "metadata": {},
   "outputs": [
    {
     "name": "stdout",
     "output_type": "stream",
     "text": [
      "242\n"
     ]
    }
   ],
   "source": [
    "#converting 2D array into 1D array\n",
    "notes_ = [element for note_ in notes_array for element in note_]\n",
    "\n",
    "#No. of unique notes\n",
    "unique_notes = list(set(notes_))\n",
    "print(len(unique_notes))"
   ]
  },
  {
   "cell_type": "code",
   "execution_count": 7,
   "id": "3715aa2a",
   "metadata": {},
   "outputs": [
    {
     "data": {
      "text/plain": [
       "(array([167.,  31.,  16.,   7.,   4.,   2.,   5.,   3.,   4.,   3.]),\n",
       " array([  1. ,  77.2, 153.4, 229.6, 305.8, 382. , 458.2, 534.4, 610.6,\n",
       "        686.8, 763. ]),\n",
       " <BarContainer object of 10 artists>)"
      ]
     },
     "execution_count": 7,
     "metadata": {},
     "output_type": "execute_result"
    },
    {
     "data": {
      "image/png": "[encoded data removed]",
      "text/plain": [
       "<Figure size 360x360 with 1 Axes>"
      ]
     },
     "metadata": {
      "image/png": {
       "height": 302,
       "width": 328
      },
      "needs_background": "light"
     },
     "output_type": "display_data"
    }
   ],
   "source": [
    "#importing library\n",
    "from collections import Counter\n",
    "\n",
    "#computing frequency of each note\n",
    "freq = dict(Counter(notes_))\n",
    "\n",
    "#library for visualiation\n",
    "import matplotlib.pyplot as plt\n",
    "\n",
    "#consider only the frequencies\n",
    "no=[count for _,count in freq.items()]\n",
    "\n",
    "#set the figure size\n",
    "plt.figure(figsize=(5,5))\n",
    "\n",
    "#plot\n",
    "plt.hist(no)"
   ]
  },
  {
   "cell_type": "code",
   "execution_count": 8,
   "id": "95ffce20",
   "metadata": {},
   "outputs": [
    {
     "name": "stdout",
     "output_type": "stream",
     "text": [
      "92\n"
     ]
    }
   ],
   "source": [
    "frequent_notes = [note_ for note_, count in freq.items() if count>=50]\n",
    "print(len(frequent_notes))"
   ]
  },
  {
   "cell_type": "code",
   "execution_count": 9,
   "id": "338432f7",
   "metadata": {},
   "outputs": [],
   "source": [
    "no_of_timesteps = 32\n",
    "x = []\n",
    "y = []\n",
    "\n",
    "for note_ in notes_array:\n",
    "    for i in range(0, len(note_) - no_of_timesteps, 1):\n",
    "        \n",
    "        #preparing input and output sequences\n",
    "        input_ = note_[i:i + no_of_timesteps]\n",
    "        output = note_[i + no_of_timesteps]\n",
    "        \n",
    "        x.append(input_)\n",
    "        y.append(output)\n",
    "        \n",
    "x=np.array(x)\n",
    "y=np.array(y)"
   ]
  },
  {
   "cell_type": "code",
   "execution_count": 10,
   "id": "ae28d6a9",
   "metadata": {},
   "outputs": [],
   "source": [
    "unique_x = list(set(x.ravel()))\n",
    "x_note_to_int = dict((note_, number) for number, note_ in enumerate(unique_x))"
   ]
  },
  {
   "cell_type": "code",
   "execution_count": 11,
   "id": "f68ff95c",
   "metadata": {},
   "outputs": [],
   "source": [
    "x_seq=[]\n",
    "for i in x:\n",
    "    temp=[]\n",
    "    for j in i:\n",
    "        #assigning unique integer to every note\n",
    "        temp.append(x_note_to_int[j])\n",
    "    x_seq.append(temp)\n",
    "    \n",
    "x_seq = np.array(x_seq)"
   ]
  },
  {
   "cell_type": "code",
   "execution_count": 12,
   "id": "fc1adddf",
   "metadata": {},
   "outputs": [],
   "source": [
    "unique_y = list(set(y))\n",
    "y_note_to_int = dict((note_, number) for number, note_ in enumerate(unique_y)) \n",
    "y_seq=np.array([y_note_to_int[i] for i in y])"
   ]
  },
  {
   "cell_type": "code",
   "execution_count": 13,
   "id": "7f154f93",
   "metadata": {},
   "outputs": [],
   "source": [
    "from sklearn.model_selection import train_test_split\n",
    "x_tr, x_val, y_tr, y_val = train_test_split(x_seq,y_seq,test_size=0.2,random_state=0)"
   ]
  },
  {
   "cell_type": "code",
   "execution_count": 15,
   "id": "c24a98d6",
   "metadata": {},
   "outputs": [],
   "source": [
    "def lstm():\n",
    "    model = Sequential()\n",
    "    model.add(LSTM(128,return_sequences=True))\n",
    "    model.add(LSTM(128))\n",
    "    model.add(Dense(256))\n",
    "    model.add(Activation('relu'))\n",
    "    model.add(Dense(n_vocab))\n",
    "    model.add(Activation('softmax'))\n",
    "    model.compile(loss='sparse_categorical_crossentropy', optimizer='adam')\n",
    "    return model"
   ]
  },
  {
   "cell_type": "code",
   "execution_count": 16,
   "id": "257f5576",
   "metadata": {},
   "outputs": [
    {
     "name": "stdout",
     "output_type": "stream",
     "text": [
      "Model: \"sequential\"\n",
      "_________________________________________________________________\n",
      " Layer (type)                Output Shape              Param #   \n",
      "=================================================================\n",
      " embedding (Embedding)       (None, 32, 100)           24200     \n",
      "                                                                 \n",
      " conv1d (Conv1D)             (None, 32, 64)            19264     \n",
      "                                                                 \n",
      " dropout (Dropout)           (None, 32, 64)            0         \n",
      "                                                                 \n",
      " max_pooling1d (MaxPooling1D  (None, 16, 64)           0         \n",
      " )                                                               \n",
      "                                                                 \n",
      " conv1d_1 (Conv1D)           (None, 16, 128)           24704     \n",
      "                                                                 \n",
      " dropout_1 (Dropout)         (None, 16, 128)           0         \n",
      "                                                                 \n",
      " max_pooling1d_1 (MaxPooling  (None, 8, 128)           0         \n",
      " 1D)                                                             \n",
      "                                                                 \n",
      " conv1d_2 (Conv1D)           (None, 8, 256)            98560     \n",
      "                                                                 \n",
      " dropout_2 (Dropout)         (None, 8, 256)            0         \n",
      "                                                                 \n",
      " max_pooling1d_2 (MaxPooling  (None, 4, 256)           0         \n",
      " 1D)                                                             \n",
      "                                                                 \n",
      " global_max_pooling1d (Globa  (None, 256)              0         \n",
      " lMaxPooling1D)                                                  \n",
      "                                                                 \n",
      " dense (Dense)               (None, 256)               65792     \n",
      "                                                                 \n",
      " dense_1 (Dense)             (None, 242)               62194     \n",
      "                                                                 \n",
      "=================================================================\n",
      "Total params: 294,714\n",
      "Trainable params: 294,714\n",
      "Non-trainable params: 0\n",
      "_________________________________________________________________\n"
     ]
    }
   ],
   "source": [
    "from keras.layers import *\n",
    "from keras.models import *\n",
    "from keras.callbacks import *\n",
    "import keras.backend as K\n",
    "\n",
    "K.clear_session()\n",
    "model = Sequential()\n",
    "    \n",
    "#embedding layer\n",
    "model.add(Embedding(len(unique_x), 100, input_length=32,trainable=True)) \n",
    "\n",
    "model.add(Conv1D(64,3, padding='causal',activation='relu'))\n",
    "model.add(Dropout(0.2))\n",
    "model.add(MaxPool1D(2))\n",
    "    \n",
    "model.add(Conv1D(128,3,activation='relu',dilation_rate=2,padding='causal'))\n",
    "model.add(Dropout(0.2))\n",
    "model.add(MaxPool1D(2))\n",
    "\n",
    "model.add(Conv1D(256,3,activation='relu',dilation_rate=4,padding='causal'))\n",
    "model.add(Dropout(0.2))\n",
    "model.add(MaxPool1D(2))\n",
    "          \n",
    "#model.add(Conv1D(256,5,activation='relu'))    \n",
    "model.add(GlobalMaxPool1D())\n",
    "    \n",
    "model.add(Dense(256, activation='relu'))\n",
    "model.add(Dense(len(unique_y), activation='softmax'))\n",
    "    \n",
    "model.compile(loss='sparse_categorical_crossentropy', optimizer='adam')\n",
    "\n",
    "model.summary()"
   ]
  },
  {
   "cell_type": "code",
   "execution_count": 17,
   "id": "24fbf067",
   "metadata": {},
   "outputs": [],
   "source": [
    "mc=ModelCheckpoint('best_model.h5', monitor='val_loss', mode='min', save_best_only=True,verbose=1)\n"
   ]
  },
  {
   "cell_type": "code",
   "execution_count": 18,
   "id": "b82ace3b",
   "metadata": {},
   "outputs": [
    {
     "name": "stdout",
     "output_type": "stream",
     "text": [
      "Epoch 1/50\n",
      "139/140 [============================>.] - ETA: 0s - loss: 4.5744\n",
      "Epoch 00001: val_loss improved from inf to 4.50043, saving model to best_model.h5\n",
      "140/140 [==============================] - 6s 41ms/step - loss: 4.5741 - val_loss: 4.5004\n",
      "Epoch 2/50\n",
      "139/140 [============================>.] - ETA: 0s - loss: 4.2170\n",
      "Epoch 00002: val_loss improved from 4.50043 to 4.15591, saving model to best_model.h5\n",
      "140/140 [==============================] - 5s 39ms/step - loss: 4.2171 - val_loss: 4.1559\n",
      "Epoch 3/50\n",
      "139/140 [============================>.] - ETA: 0s - loss: 3.9326\n",
      "Epoch 00003: val_loss improved from 4.15591 to 3.97696, saving model to best_model.h5\n",
      "140/140 [==============================] - 6s 41ms/step - loss: 3.9322 - val_loss: 3.9770\n",
      "Epoch 4/50\n",
      "140/140 [==============================] - ETA: 0s - loss: 3.7513\n",
      "Epoch 00004: val_loss improved from 3.97696 to 3.90960, saving model to best_model.h5\n",
      "140/140 [==============================] - 9s 62ms/step - loss: 3.7513 - val_loss: 3.9096\n",
      "Epoch 5/50\n",
      "139/140 [============================>.] - ETA: 0s - loss: 3.6282\n",
      "Epoch 00005: val_loss improved from 3.90960 to 3.82207, saving model to best_model.h5\n",
      "140/140 [==============================] - 8s 60ms/step - loss: 3.6284 - val_loss: 3.8221\n",
      "Epoch 6/50\n",
      "139/140 [============================>.] - ETA: 0s - loss: 3.5261\n",
      "Epoch 00006: val_loss improved from 3.82207 to 3.74093, saving model to best_model.h5\n",
      "140/140 [==============================] - 8s 58ms/step - loss: 3.5263 - val_loss: 3.7409\n",
      "Epoch 7/50\n",
      "139/140 [============================>.] - ETA: 0s - loss: 3.4289\n",
      "Epoch 00007: val_loss improved from 3.74093 to 3.68150, saving model to best_model.h5\n",
      "140/140 [==============================] - 8s 58ms/step - loss: 3.4287 - val_loss: 3.6815\n",
      "Epoch 8/50\n",
      "140/140 [==============================] - ETA: 0s - loss: 3.3479\n",
      "Epoch 00008: val_loss improved from 3.68150 to 3.63831, saving model to best_model.h5\n",
      "140/140 [==============================] - 8s 57ms/step - loss: 3.3479 - val_loss: 3.6383\n",
      "Epoch 9/50\n",
      "139/140 [============================>.] - ETA: 0s - loss: 3.2799\n",
      "Epoch 00009: val_loss improved from 3.63831 to 3.56015, saving model to best_model.h5\n",
      "140/140 [==============================] - 8s 58ms/step - loss: 3.2794 - val_loss: 3.5601\n",
      "Epoch 10/50\n",
      "139/140 [============================>.] - ETA: 0s - loss: 3.2074\n",
      "Epoch 00010: val_loss did not improve from 3.56015\n",
      "140/140 [==============================] - 8s 57ms/step - loss: 3.2075 - val_loss: 3.5626\n",
      "Epoch 11/50\n",
      "139/140 [============================>.] - ETA: 0s - loss: 3.1443\n",
      "Epoch 00011: val_loss improved from 3.56015 to 3.49226, saving model to best_model.h5\n",
      "140/140 [==============================] - 8s 58ms/step - loss: 3.1444 - val_loss: 3.4923\n",
      "Epoch 12/50\n",
      "139/140 [============================>.] - ETA: 0s - loss: 3.0912\n",
      "Epoch 00012: val_loss improved from 3.49226 to 3.44906, saving model to best_model.h5\n",
      "140/140 [==============================] - 8s 58ms/step - loss: 3.0910 - val_loss: 3.4491\n",
      "Epoch 13/50\n",
      "139/140 [============================>.] - ETA: 0s - loss: 3.0318\n",
      "Epoch 00013: val_loss improved from 3.44906 to 3.43592, saving model to best_model.h5\n",
      "140/140 [==============================] - 9s 64ms/step - loss: 3.0315 - val_loss: 3.4359\n",
      "Epoch 14/50\n",
      "139/140 [============================>.] - ETA: 0s - loss: 2.9869\n",
      "Epoch 00014: val_loss improved from 3.43592 to 3.41546, saving model to best_model.h5\n",
      "140/140 [==============================] - 8s 59ms/step - loss: 2.9865 - val_loss: 3.4155\n",
      "Epoch 15/50\n",
      "140/140 [==============================] - ETA: 0s - loss: 2.9357\n",
      "Epoch 00015: val_loss improved from 3.41546 to 3.34946, saving model to best_model.h5\n",
      "140/140 [==============================] - 9s 61ms/step - loss: 2.9357 - val_loss: 3.3495\n",
      "Epoch 16/50\n",
      "140/140 [==============================] - ETA: 0s - loss: 2.8871\n",
      "Epoch 00016: val_loss improved from 3.34946 to 3.33613, saving model to best_model.h5\n",
      "140/140 [==============================] - 8s 54ms/step - loss: 2.8871 - val_loss: 3.3361\n",
      "Epoch 17/50\n",
      "138/140 [============================>.] - ETA: 0s - loss: 2.8450\n",
      "Epoch 00017: val_loss improved from 3.33613 to 3.32828, saving model to best_model.h5\n",
      "140/140 [==============================] - 6s 44ms/step - loss: 2.8454 - val_loss: 3.3283\n",
      "Epoch 18/50\n",
      "139/140 [============================>.] - ETA: 0s - loss: 2.8014\n",
      "Epoch 00018: val_loss improved from 3.32828 to 3.30106, saving model to best_model.h5\n",
      "140/140 [==============================] - 7s 51ms/step - loss: 2.8012 - val_loss: 3.3011\n",
      "Epoch 19/50\n",
      "140/140 [==============================] - ETA: 0s - loss: 2.7662\n",
      "Epoch 00019: val_loss did not improve from 3.30106\n",
      "140/140 [==============================] - 7s 47ms/step - loss: 2.7662 - val_loss: 3.3064\n",
      "Epoch 20/50\n",
      "140/140 [==============================] - ETA: 0s - loss: 2.7123\n",
      "Epoch 00020: val_loss improved from 3.30106 to 3.28020, saving model to best_model.h5\n",
      "140/140 [==============================] - 7s 53ms/step - loss: 2.7123 - val_loss: 3.2802\n",
      "Epoch 21/50\n",
      "140/140 [==============================] - ETA: 0s - loss: 2.6814\n",
      "Epoch 00021: val_loss improved from 3.28020 to 3.27385, saving model to best_model.h5\n",
      "140/140 [==============================] - 8s 55ms/step - loss: 2.6814 - val_loss: 3.2739\n",
      "Epoch 22/50\n",
      "140/140 [==============================] - ETA: 0s - loss: 2.6471\n",
      "Epoch 00022: val_loss did not improve from 3.27385\n",
      "140/140 [==============================] - 7s 48ms/step - loss: 2.6471 - val_loss: 3.2744\n",
      "Epoch 23/50\n",
      "139/140 [============================>.] - ETA: 0s - loss: 2.6145\n",
      "Epoch 00023: val_loss improved from 3.27385 to 3.24138, saving model to best_model.h5\n",
      "140/140 [==============================] - 7s 51ms/step - loss: 2.6149 - val_loss: 3.2414\n",
      "Epoch 24/50\n",
      "139/140 [============================>.] - ETA: 0s - loss: 2.5793\n",
      "Epoch 00024: val_loss improved from 3.24138 to 3.23928, saving model to best_model.h5\n",
      "140/140 [==============================] - 6s 42ms/step - loss: 2.5787 - val_loss: 3.2393\n",
      "Epoch 25/50\n",
      "139/140 [============================>.] - ETA: 0s - loss: 2.5554\n",
      "Epoch 00025: val_loss improved from 3.23928 to 3.21215, saving model to best_model.h5\n",
      "140/140 [==============================] - 6s 42ms/step - loss: 2.5550 - val_loss: 3.2122\n",
      "Epoch 26/50\n",
      "139/140 [============================>.] - ETA: 0s - loss: 2.5202\n",
      "Epoch 00026: val_loss improved from 3.21215 to 3.20830, saving model to best_model.h5\n",
      "140/140 [==============================] - 7s 47ms/step - loss: 2.5209 - val_loss: 3.2083\n",
      "Epoch 27/50\n",
      "139/140 [============================>.] - ETA: 0s - loss: 2.4923\n",
      "Epoch 00027: val_loss improved from 3.20830 to 3.19061, saving model to best_model.h5\n",
      "140/140 [==============================] - 6s 44ms/step - loss: 2.4920 - val_loss: 3.1906\n",
      "Epoch 28/50\n",
      "138/140 [============================>.] - ETA: 0s - loss: 2.4639\n",
      "Epoch 00028: val_loss did not improve from 3.19061\n",
      "140/140 [==============================] - 6s 44ms/step - loss: 2.4626 - val_loss: 3.1937\n",
      "Epoch 29/50\n",
      "139/140 [============================>.] - ETA: 0s - loss: 2.4312\n",
      "Epoch 00029: val_loss improved from 3.19061 to 3.17342, saving model to best_model.h5\n",
      "140/140 [==============================] - 5s 39ms/step - loss: 2.4305 - val_loss: 3.1734\n",
      "Epoch 30/50\n",
      "139/140 [============================>.] - ETA: 0s - loss: 2.4147\n",
      "Epoch 00030: val_loss did not improve from 3.17342\n",
      "140/140 [==============================] - 5s 39ms/step - loss: 2.4147 - val_loss: 3.1814\n",
      "Epoch 31/50\n",
      "139/140 [============================>.] - ETA: 0s - loss: 2.3895\n",
      "Epoch 00031: val_loss did not improve from 3.17342\n",
      "140/140 [==============================] - 5s 39ms/step - loss: 2.3896 - val_loss: 3.2023\n",
      "Epoch 32/50\n",
      "138/140 [============================>.] - ETA: 0s - loss: 2.3670\n",
      "Epoch 00032: val_loss improved from 3.17342 to 3.17335, saving model to best_model.h5\n",
      "140/140 [==============================] - 6s 39ms/step - loss: 2.3684 - val_loss: 3.1734\n",
      "Epoch 33/50\n",
      "139/140 [============================>.] - ETA: 0s - loss: 2.3360\n",
      "Epoch 00033: val_loss did not improve from 3.17335\n",
      "140/140 [==============================] - 5s 39ms/step - loss: 2.3354 - val_loss: 3.1911\n",
      "Epoch 34/50\n"
     ]
    },
    {
     "name": "stdout",
     "output_type": "stream",
     "text": [
      "139/140 [============================>.] - ETA: 0s - loss: 2.3094\n",
      "Epoch 00034: val_loss improved from 3.17335 to 3.16179, saving model to best_model.h5\n",
      "140/140 [==============================] - 6s 42ms/step - loss: 2.3101 - val_loss: 3.1618\n",
      "Epoch 35/50\n",
      "139/140 [============================>.] - ETA: 0s - loss: 2.2947\n",
      "Epoch 00035: val_loss improved from 3.16179 to 3.16068, saving model to best_model.h5\n",
      "140/140 [==============================] - 6s 45ms/step - loss: 2.2947 - val_loss: 3.1607\n",
      "Epoch 36/50\n",
      "140/140 [==============================] - ETA: 0s - loss: 2.2753\n",
      "Epoch 00036: val_loss improved from 3.16068 to 3.15452, saving model to best_model.h5\n",
      "140/140 [==============================] - 6s 45ms/step - loss: 2.2753 - val_loss: 3.1545\n",
      "Epoch 37/50\n",
      "139/140 [============================>.] - ETA: 0s - loss: 2.2454\n",
      "Epoch 00037: val_loss improved from 3.15452 to 3.15096, saving model to best_model.h5\n",
      "140/140 [==============================] - 6s 43ms/step - loss: 2.2460 - val_loss: 3.1510\n",
      "Epoch 38/50\n",
      "138/140 [============================>.] - ETA: 0s - loss: 2.2238\n",
      "Epoch 00038: val_loss improved from 3.15096 to 3.13447, saving model to best_model.h5\n",
      "140/140 [==============================] - 7s 48ms/step - loss: 2.2272 - val_loss: 3.1345\n",
      "Epoch 39/50\n",
      "140/140 [==============================] - ETA: 0s - loss: 2.2045\n",
      "Epoch 00039: val_loss did not improve from 3.13447\n",
      "140/140 [==============================] - 6s 43ms/step - loss: 2.2045 - val_loss: 3.1549\n",
      "Epoch 40/50\n",
      "140/140 [==============================] - ETA: 0s - loss: 2.1793\n",
      "Epoch 00040: val_loss did not improve from 3.13447\n",
      "140/140 [==============================] - 6s 44ms/step - loss: 2.1793 - val_loss: 3.1412\n",
      "Epoch 41/50\n",
      "139/140 [============================>.] - ETA: 0s - loss: 2.1858\n",
      "Epoch 00041: val_loss did not improve from 3.13447\n",
      "140/140 [==============================] - 6s 43ms/step - loss: 2.1856 - val_loss: 3.1512\n",
      "Epoch 42/50\n",
      "139/140 [============================>.] - ETA: 0s - loss: 2.1499\n",
      "Epoch 00042: val_loss did not improve from 3.13447\n",
      "140/140 [==============================] - 6s 44ms/step - loss: 2.1503 - val_loss: 3.1535\n",
      "Epoch 43/50\n",
      "139/140 [============================>.] - ETA: 0s - loss: 2.1399\n",
      "Epoch 00043: val_loss did not improve from 3.13447\n",
      "140/140 [==============================] - 7s 48ms/step - loss: 2.1388 - val_loss: 3.1431\n",
      "Epoch 44/50\n",
      "139/140 [============================>.] - ETA: 0s - loss: 2.1241\n",
      "Epoch 00044: val_loss did not improve from 3.13447\n",
      "140/140 [==============================] - 8s 56ms/step - loss: 2.1249 - val_loss: 3.1487\n",
      "Epoch 45/50\n",
      "139/140 [============================>.] - ETA: 0s - loss: 2.1157\n",
      "Epoch 00045: val_loss did not improve from 3.13447\n",
      "140/140 [==============================] - 9s 65ms/step - loss: 2.1159 - val_loss: 3.1516\n",
      "Epoch 46/50\n",
      "139/140 [============================>.] - ETA: 0s - loss: 2.0868\n",
      "Epoch 00046: val_loss did not improve from 3.13447\n",
      "140/140 [==============================] - 8s 59ms/step - loss: 2.0869 - val_loss: 3.1699\n",
      "Epoch 47/50\n",
      "139/140 [============================>.] - ETA: 0s - loss: 2.0736\n",
      "Epoch 00047: val_loss did not improve from 3.13447\n",
      "140/140 [==============================] - 7s 51ms/step - loss: 2.0738 - val_loss: 3.1512\n",
      "Epoch 48/50\n",
      "139/140 [============================>.] - ETA: 0s - loss: 2.0582\n",
      "Epoch 00048: val_loss did not improve from 3.13447\n",
      "140/140 [==============================] - 8s 58ms/step - loss: 2.0583 - val_loss: 3.1456\n",
      "Epoch 49/50\n",
      "140/140 [==============================] - ETA: 0s - loss: 2.0362\n",
      "Epoch 00049: val_loss did not improve from 3.13447\n",
      "140/140 [==============================] - 7s 48ms/step - loss: 2.0362 - val_loss: 3.1686\n",
      "Epoch 50/50\n",
      "140/140 [==============================] - ETA: 0s - loss: 2.0447\n",
      "Epoch 00050: val_loss did not improve from 3.13447\n",
      "140/140 [==============================] - 7s 53ms/step - loss: 2.0447 - val_loss: 3.1610\n"
     ]
    }
   ],
   "source": [
    "history = model.fit(np.array(x_tr),np.array(y_tr),batch_size=128,epochs=50, validation_data=(np.array(x_val),np.array(y_val)),verbose=1, callbacks=[mc])\n"
   ]
  },
  {
   "cell_type": "code",
   "execution_count": 19,
   "id": "b577243c",
   "metadata": {},
   "outputs": [],
   "source": [
    "#loading best model\n",
    "from keras.models import load_model\n",
    "model = load_model('best_model.h5')"
   ]
  },
  {
   "cell_type": "code",
   "execution_count": 21,
   "id": "412df988",
   "metadata": {},
   "outputs": [
    {
     "name": "stdout",
     "output_type": "stream",
     "text": [
      "[176, 16, 176, 16, 178, 16, 103, 16, 103, 16, 103, 16, 103, 157, 176, 5, 214, 103, 103, 176, 214, 178, 178, 178, 103, 214, 214, 103, 214, 214, 214, 214, 214, 186, 186, 134, 186, 134, 134, 134, 134, 187, 187, 134, 134, 134, 134, 134, 134, 134]\n"
     ]
    }
   ],
   "source": [
    "import random\n",
    "ind = np.random.randint(0,len(x_val)-1)\n",
    "\n",
    "random_music = x_val[ind]\n",
    "\n",
    "predictions=[]\n",
    "for i in range(50):\n",
    "\n",
    "    random_music = random_music.reshape(1,no_of_timesteps)\n",
    "\n",
    "    prob  = model.predict(random_music)[0]\n",
    "    y_pred= np.argmax(prob,axis=0)\n",
    "    predictions.append(y_pred)\n",
    "\n",
    "    random_music = np.insert(random_music[0],len(random_music[0]),y_pred)\n",
    "    random_music = random_music[1:]\n",
    "    \n",
    "print(predictions)"
   ]
  },
  {
   "cell_type": "code",
   "execution_count": 22,
   "id": "88712601",
   "metadata": {},
   "outputs": [],
   "source": [
    "x_int_to_note = dict((number, note_) for number, note_ in enumerate(unique_x)) \n",
    "predicted_notes = [x_int_to_note[i] for i in predictions]"
   ]
  },
  {
   "cell_type": "code",
   "execution_count": 29,
   "id": "2f1fb29a",
   "metadata": {},
   "outputs": [],
   "source": [
    "def convert_to_midi(prediction_output):\n",
    "   \n",
    "    offset = 0\n",
    "    output_notes = []\n",
    "\n",
    "    # create note and chord objects based on the values generated by the model\n",
    "    for pattern in prediction_output:\n",
    "        \n",
    "        # pattern is a chord\n",
    "        if ('.' in pattern) or pattern.isdigit():\n",
    "            notes_in_chord = pattern.split('.')\n",
    "            notes = []\n",
    "            for current_note in notes_in_chord:\n",
    "                \n",
    "                cn=int(current_note)\n",
    "                new_note = note.Note(cn)\n",
    "                new_note.storedInstrument = instrument.Piano()\n",
    "                notes.append(new_note)\n",
    "                \n",
    "            new_chord = chord.Chord(notes)\n",
    "            new_chord.offset = offset\n",
    "            output_notes.append(new_chord)\n",
    "            \n",
    "        # pattern is a note\n",
    "        else:\n",
    "            \n",
    "            new_note = note.Note(pattern)\n",
    "            new_note.offset = offset\n",
    "            new_note.storedInstrument = instrument.Piano()\n",
    "            output_notes.append(new_note)\n",
    "\n",
    "        # increase offset each iteration so that notes do not stack\n",
    "        offset += 1\n",
    "    midi_stream = stream.Stream(output_notes)\n",
    "    midi_stream.write('midi', fp='music.mid')"
   ]
  },
  {
   "cell_type": "code",
   "execution_count": 30,
   "id": "3e38af04",
   "metadata": {},
   "outputs": [],
   "source": [
    "convert_to_midi(predicted_notes)\n"
   ]
  },
  {
   "cell_type": "code",
   "execution_count": null,
   "id": "0c0e40ba",
   "metadata": {},
   "outputs": [],
   "source": []
  }
 ],
 "metadata": {
  "kernelspec": {
   "display_name": "Python 3 (ipykernel)",
   "language": "python",
   "name": "python3"
  },
  "language_info": {
   "codemirror_mode": {
    "name": "ipython",
    "version": 3
   },
   "file_extension": ".py",
   "mimetype": "text/x-python",
   "name": "python",
   "nbconvert_exporter": "python",
   "pygments_lexer": "ipython3",
   "version": "3.8.8"
  }
 },
 "nbformat": 4,
 "nbformat_minor": 5
}
