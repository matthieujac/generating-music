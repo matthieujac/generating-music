{
 "cells": [
  {
   "cell_type": "markdown",
   "source": [
    "# Generating Music\n",
    "MGSC-695 Project\n",
    "\n",
    "We are using beethoven music converted in MIDI files to generate music.\n",
    "We have adapted the code from here [link](https://www.analyticsvidhya.com/blog/2020/01/how-to-perform-automatic-music-generation) to fit with our desired music creation"
   ],
   "metadata": {
    "collapsed": false,
    "pycharm": {
     "name": "#%% md\n"
    }
   }
  },
  {
   "cell_type": "code",
   "execution_count": 2,
   "id": "7df9dca2",
   "metadata": {
    "pycharm": {
     "name": "#%%\n"
    }
   },
   "outputs": [],
   "source": [
    "# Libraries to be used\n",
    "import random\n",
    "\n",
    "from music21 import *  # understanding music\n",
    "import os  # for listing down the file names\n",
    "import numpy as np  # array processing\n",
    "from collections import Counter\n",
    "import matplotlib.pyplot as plt  # Visualisation"
   ]
  },
  {
   "cell_type": "markdown",
   "source": [
    "## Reading the MIDI Files\n",
    "Understanding the MIDI format: [midi](https://www.cs.cmu.edu/~music/cmsip/readings/MIDI%20tutorial%20for%20programmers.html)\n",
    "- Convert the MIDI file into an array of notes\n",
    "- To simplify the training.  Only the piano channel is selected."
   ],
   "metadata": {
    "collapsed": false,
    "pycharm": {
     "name": "#%% md\n"
    }
   }
  },
  {
   "cell_type": "code",
   "execution_count": 3,
   "id": "97701965",
   "metadata": {
    "pycharm": {
     "name": "#%%\n"
    }
   },
   "outputs": [],
   "source": [
    "# defining function to read MIDI files\n",
    "def read_midi(file):\n",
    "    \n",
    "    print(\"Loading Music File:\",file)\n",
    "    \n",
    "    notes=[]\n",
    "    notes_to_parse = None\n",
    "    \n",
    "    # Parsing a midi file\n",
    "    midi = converter.parse(file)\n",
    "  \n",
    "    # Grouping based on different instruments\n",
    "    s2 = instrument.partitionByInstrument(midi)\n",
    "\n",
    "    # Looping over all the instruments\n",
    "    for part in s2.parts:\n",
    "    \n",
    "        #select elements of only piano\n",
    "        if 'Piano' in str(part): \n",
    "        \n",
    "            notes_to_parse = part.recurse() \n",
    "      \n",
    "            #finding whether a particular element is note or a chord\n",
    "            for element in notes_to_parse:\n",
    "                #note\n",
    "                if isinstance(element, note.Note):\n",
    "                    notes.append(str(element.pitch))\n",
    "                #chord\n",
    "                elif isinstance(element, chord.Chord):\n",
    "                    notes.append('.'.join(str(n) for n in element.normalOrder))\n",
    "\n",
    "    return np.array(notes)"
   ]
  },
  {
   "cell_type": "markdown",
   "source": [
    "Transform Beethoven Midi files to numpy array"
   ],
   "metadata": {
    "collapsed": false,
    "pycharm": {
     "name": "#%% md\n"
    }
   }
  },
  {
   "cell_type": "code",
   "execution_count": 4,
   "id": "25b5812d",
   "metadata": {
    "pycharm": {
     "name": "#%%\n"
    }
   },
   "outputs": [
    {
     "name": "stdout",
     "output_type": "stream",
     "text": [
      "Loading Music File: Beethoven/beethoven_opus10_1.mid\n"
     ]
    },
    {
     "name": "stderr",
     "output_type": "stream",
     "text": [
      "C:\\Anaconda\\envs\\generating-music\\lib\\site-packages\\music21\\midi\\translate.py:883: TranslateWarning: Unable to determine instrument from <music21.midi.MidiEvent SEQUENCE_TRACK_NAME, track=5, channel=None, data=b'Copyright \\xa9 2008 by Bernd Krueger'>; getting generic Instrument\n",
      "  warnings.warn(\n"
     ]
    },
    {
     "name": "stdout",
     "output_type": "stream",
     "text": [
      "Loading Music File: Beethoven/beethoven_opus10_2.mid\n",
      "Loading Music File: Beethoven/beethoven_opus10_3.mid\n",
      "Loading Music File: Beethoven/beethoven_opus22_1.mid\n"
     ]
    },
    {
     "name": "stderr",
     "output_type": "stream",
     "text": [
      "C:\\Anaconda\\envs\\generating-music\\lib\\site-packages\\music21\\midi\\translate.py:883: TranslateWarning: Unable to determine instrument from <music21.midi.MidiEvent SEQUENCE_TRACK_NAME, track=5, channel=None, data=b'Copyright \\xa9 2009 by Bernd Krueger'>; getting generic Instrument\n",
      "  warnings.warn(\n"
     ]
    },
    {
     "name": "stdout",
     "output_type": "stream",
     "text": [
      "Loading Music File: Beethoven/beethoven_opus22_2.mid\n",
      "Loading Music File: Beethoven/beethoven_opus22_3.mid\n",
      "Loading Music File: Beethoven/beethoven_opus22_4.mid\n"
     ]
    },
    {
     "name": "stderr",
     "output_type": "stream",
     "text": [
      "C:\\Users\\Samuel Dion\\AppData\\Local\\Temp\\ipykernel_50044\\3579340400.py:8: VisibleDeprecationWarning: Creating an ndarray from ragged nested sequences (which is a list-or-tuple of lists-or-tuples-or ndarrays with different lengths or shapes) is deprecated. If you meant to do this, you must specify 'dtype=object' when creating the ndarray.\n",
      "  notes_array = np.array([read_midi(path+i) for i in files])\n"
     ]
    }
   ],
   "source": [
    "#specify the path\n",
    "path='Beethoven/'\n",
    "\n",
    "#read all the filenames\n",
    "files=[i for i in os.listdir(path) if i.endswith(\".mid\")]\n",
    "\n",
    "#reading each midi file\n",
    "notes_array = np.array([read_midi(path+i) for i in files])"
   ]
  },
  {
   "cell_type": "markdown",
   "source": [
    "Appending all the notes together to create a 1D array"
   ],
   "metadata": {
    "collapsed": false,
    "pycharm": {
     "name": "#%% md\n"
    }
   }
  },
  {
   "cell_type": "code",
   "execution_count": 5,
   "id": "e7209291",
   "metadata": {
    "pycharm": {
     "name": "#%%\n"
    }
   },
   "outputs": [
    {
     "name": "stdout",
     "output_type": "stream",
     "text": [
      "225\n"
     ]
    }
   ],
   "source": [
    "#converting 2D array into 1D array\n",
    "notes_ = [element for note_ in notes_array for element in note_]\n",
    "\n",
    "#No. of unique notes\n",
    "unique_notes = list(set(notes_))\n",
    "print(len(unique_notes))"
   ]
  },
  {
   "cell_type": "markdown",
   "source": [
    "## Analyzing Occurence Frequency of Notes from the Dataset"
   ],
   "metadata": {
    "collapsed": false,
    "pycharm": {
     "name": "#%% md\n"
    }
   }
  },
  {
   "cell_type": "code",
   "execution_count": 6,
   "id": "3715aa2a",
   "metadata": {
    "pycharm": {
     "name": "#%%\n"
    }
   },
   "outputs": [
    {
     "data": {
      "text/plain": "<Figure size 432x288 with 1 Axes>",
      "image/png": "[encoded data removed]"
     },
     "metadata": {
      "image/png": {
       "width": 375,
       "height": 248
      },
      "needs_background": "light"
     },
     "output_type": "display_data"
    }
   ],
   "source": [
    "#computing frequency of each note\n",
    "freq = dict(Counter(notes_))\n",
    "\n",
    "#consider only the frequencies\n",
    "no=[count for _,count in freq.items()]\n",
    "\n",
    "#plot\n",
    "plt.hist(no)\n",
    "plt.show()"
   ]
  },
  {
   "cell_type": "code",
   "execution_count": 7,
   "id": "95ffce20",
   "metadata": {
    "pycharm": {
     "name": "#%%\n"
    }
   },
   "outputs": [
    {
     "name": "stdout",
     "output_type": "stream",
     "text": [
      "75\n"
     ]
    }
   ],
   "source": [
    "frequent_notes = [note_ for note_, count in freq.items() if count>=50]\n",
    "print(len(frequent_notes))"
   ]
  },
  {
   "cell_type": "markdown",
   "source": [
    "## Create the training dataset with 32 timesteps of music notes\n",
    "- This will create a training dataset of size (nb notes x timestep of 32)"
   ],
   "metadata": {
    "collapsed": false,
    "pycharm": {
     "name": "#%% md\n"
    }
   }
  },
  {
   "cell_type": "markdown",
   "source": [
    "Assign a unique integer to all the notes and chords instead of the music notation."
   ],
   "metadata": {
    "collapsed": false,
    "pycharm": {
     "name": "#%% md\n"
    }
   }
  },
  {
   "cell_type": "code",
   "execution_count": 8,
   "outputs": [],
   "source": [
    "unique_notes = np.unique(notes_)\n",
    "note_to_int = dict((note_, number) for number, note_ in enumerate(unique_notes))\n",
    "\n",
    "notes_array_int = []\n",
    "for i in notes_array:\n",
    "    temp = []\n",
    "    for j in i:\n",
    "        temp.append(note_to_int[j])\n",
    "    notes_array_int.append(np.array(temp))"
   ],
   "metadata": {
    "collapsed": false,
    "pycharm": {
     "name": "#%%\n"
    }
   }
  },
  {
   "cell_type": "markdown",
   "source": [
    "Creating the x and y datasets based on the timestep size"
   ],
   "metadata": {
    "collapsed": false,
    "pycharm": {
     "name": "#%% md\n"
    }
   }
  },
  {
   "cell_type": "code",
   "execution_count": 9,
   "id": "338432f7",
   "metadata": {
    "pycharm": {
     "name": "#%%\n"
    }
   },
   "outputs": [],
   "source": [
    "no_of_timesteps = 32\n",
    "x = []\n",
    "y = []\n",
    "\n",
    "for note_ in notes_array_int:\n",
    "    for i in range(0, len(note_) - no_of_timesteps):\n",
    "        \n",
    "        #preparing input and output sequences\n",
    "        input_ = note_[i:i + no_of_timesteps]\n",
    "        output = note_[i + no_of_timesteps]\n",
    "        \n",
    "        x.append(input_)\n",
    "        y.append(output)\n",
    "        \n",
    "x=np.array(x)\n",
    "y=np.array(y)"
   ]
  },
  {
   "cell_type": "markdown",
   "source": [
    "Create the training and test set"
   ],
   "metadata": {
    "collapsed": false,
    "pycharm": {
     "name": "#%% md\n"
    }
   }
  },
  {
   "cell_type": "code",
   "execution_count": 10,
   "id": "7f154f93",
   "metadata": {
    "pycharm": {
     "name": "#%%\n"
    }
   },
   "outputs": [],
   "source": [
    "from sklearn.model_selection import train_test_split\n",
    "x_tr, x_val, y_tr, y_val = train_test_split(x,y,test_size=0.2,random_state=0)"
   ]
  },
  {
   "cell_type": "markdown",
   "source": [
    "## Creating a Wavenet Model"
   ],
   "metadata": {
    "collapsed": false,
    "pycharm": {
     "name": "#%% md\n"
    }
   }
  },
  {
   "cell_type": "markdown",
   "source": [
    "From the research article, we can adapt the wavenet model with our notes/chords data to generate music.  Original paper used for the following images: [link](https://www.deepmind.com/blog/wavenet-a-generative-model-for-raw-audio)\n",
    "\n",
    "\n",
    "\n",
    "We start by building the causal dilated convolutianal layers like the following:\n",
    "\n",
    "![image](dilated_causal_convolutianal_layers.png)\n",
    "\n",
    "The full architecture of the wavenet model is similar to this except the residual and skip connections are not used.:\n",
    "\n",
    "![image](wavenet_architecture.png)\n",
    "\n",
    "The first model developed is essentially just the dilated causal convolutional layer.\n"
   ],
   "metadata": {
    "collapsed": false,
    "pycharm": {
     "name": "#%% md\n"
    }
   }
  },
  {
   "cell_type": "code",
   "execution_count": 11,
   "id": "257f5576",
   "metadata": {
    "pycharm": {
     "name": "#%%\n"
    }
   },
   "outputs": [
    {
     "name": "stdout",
     "output_type": "stream",
     "text": [
      "Model: \"sequential\"\n",
      "_________________________________________________________________\n",
      "Layer (type)                 Output Shape              Param #   \n",
      "=================================================================\n",
      "embedding (Embedding)        (None, 32, 100)           22500     \n",
      "_________________________________________________________________\n",
      "conv1d (Conv1D)              (None, 32, 64)            19264     \n",
      "_________________________________________________________________\n",
      "dropout (Dropout)            (None, 32, 64)            0         \n",
      "_________________________________________________________________\n",
      "max_pooling1d (MaxPooling1D) (None, 16, 64)            0         \n",
      "_________________________________________________________________\n",
      "conv1d_1 (Conv1D)            (None, 16, 128)           24704     \n",
      "_________________________________________________________________\n",
      "dropout_1 (Dropout)          (None, 16, 128)           0         \n",
      "_________________________________________________________________\n",
      "max_pooling1d_1 (MaxPooling1 (None, 8, 128)            0         \n",
      "_________________________________________________________________\n",
      "conv1d_2 (Conv1D)            (None, 8, 256)            98560     \n",
      "_________________________________________________________________\n",
      "dropout_2 (Dropout)          (None, 8, 256)            0         \n",
      "_________________________________________________________________\n",
      "max_pooling1d_2 (MaxPooling1 (None, 4, 256)            0         \n",
      "_________________________________________________________________\n",
      "global_max_pooling1d (Global (None, 256)               0         \n",
      "_________________________________________________________________\n",
      "dense (Dense)                (None, 256)               65792     \n",
      "_________________________________________________________________\n",
      "dense_1 (Dense)              (None, 225)               57825     \n",
      "=================================================================\n",
      "Total params: 288,645\n",
      "Trainable params: 288,645\n",
      "Non-trainable params: 0\n",
      "_________________________________________________________________\n"
     ]
    }
   ],
   "source": [
    "# Tensorflow Keras Libraries\n",
    "from tensorflow.keras.layers import *\n",
    "from tensorflow.keras.models import *\n",
    "from tensorflow.keras.callbacks import *\n",
    "import tensorflow.keras.backend as K\n",
    "\n",
    "K.clear_session()\n",
    "\n",
    "# ---- MODEL CREATION -----\n",
    "model = Sequential()\n",
    "    \n",
    "# The embedding layer creates a dense vector of size (batch, no_of_timesteps, embedding_size)\n",
    "# Weights of the vector are trained during the training process.\n",
    "# The embedding layer allows to learn relationship between notes and chords and is used normally in the natural language processing domain.\n",
    "embedding_size = 100\n",
    "model.add(Embedding(input_dim=len(unique_notes), output_dim=embedding_size, input_length=no_of_timesteps,trainable=True, embeddings_initializer='uniform'))\n",
    "\n",
    "# Creating the causal dilated convolutional layers\n",
    "# First layer\n",
    "model.add(Conv1D(filters=64, kernel_size=3, padding='causal', dilation_rate=1, activation='relu', ))\n",
    "model.add(Dropout(rate=0.2))\n",
    "model.add(MaxPool1D(pool_size=2, padding='valid'))\n",
    "\n",
    "# Second layer\n",
    "model.add(Conv1D(filters=128, kernel_size=3, activation='relu',dilation_rate=2,padding='causal'))\n",
    "model.add(Dropout(rate=0.2))\n",
    "model.add(MaxPool1D(pool_size=2, padding='valid'))\n",
    "\n",
    "# Third layer\n",
    "model.add(Conv1D(filters=256, kernel_size=3, activation='relu',dilation_rate=4,padding='causal'))\n",
    "model.add(Dropout(rate=0.2))\n",
    "model.add(MaxPool1D(pool_size=2, padding='valid'))\n",
    "          \n",
    "# Downsample the input by taking hte maximum value\n",
    "model.add(GlobalMaxPool1D())\n",
    "    \n",
    "model.add(Dense(256, activation='relu', ))\n",
    "model.add(Dense(len(unique_notes), activation='softmax'))\n",
    "    \n",
    "model.compile(loss='sparse_categorical_crossentropy', optimizer='adam')\n",
    "\n",
    "model.summary()"
   ]
  },
  {
   "cell_type": "code",
   "execution_count": 12,
   "id": "24fbf067",
   "metadata": {
    "pycharm": {
     "name": "#%%\n"
    }
   },
   "outputs": [],
   "source": [
    "# Create a callback to retain only the best model\n",
    "mc=ModelCheckpoint('best_model_depth1', monitor='val_loss', mode='min', save_best_only=True,verbose=1)"
   ]
  },
  {
   "cell_type": "code",
   "execution_count": 47,
   "id": "b82ace3b",
   "metadata": {
    "pycharm": {
     "name": "#%%\n"
    }
   },
   "outputs": [
    {
     "name": "stdout",
     "output_type": "stream",
     "text": [
      "Epoch 1/20\n",
      "91/93 [============================>.] - ETA: 0s - loss: 4.6146\n",
      "Epoch 00001: val_loss did not improve from 3.01595\n",
      "93/93 [==============================] - 3s 28ms/step - loss: 4.6132 - val_loss: 4.5287\n",
      "Epoch 2/20\n",
      "91/93 [============================>.] - ETA: 0s - loss: 4.3961\n",
      "Epoch 00002: val_loss did not improve from 3.01595\n",
      "93/93 [==============================] - 2s 25ms/step - loss: 4.3928 - val_loss: 4.3450\n",
      "Epoch 3/20\n",
      "92/93 [============================>.] - ETA: 0s - loss: 4.1265\n",
      "Epoch 00003: val_loss did not improve from 3.01595\n",
      "93/93 [==============================] - 3s 28ms/step - loss: 4.1251 - val_loss: 4.1790\n",
      "Epoch 4/20\n",
      "92/93 [============================>.] - ETA: 0s - loss: 3.8951\n",
      "Epoch 00004: val_loss did not improve from 3.01595\n",
      "93/93 [==============================] - 2s 26ms/step - loss: 3.8965 - val_loss: 3.9989\n",
      "Epoch 5/20\n",
      "91/93 [============================>.] - ETA: 0s - loss: 3.7427\n",
      "Epoch 00005: val_loss did not improve from 3.01595\n",
      "93/93 [==============================] - 2s 25ms/step - loss: 3.7417 - val_loss: 3.8598\n",
      "Epoch 6/20\n",
      "92/93 [============================>.] - ETA: 0s - loss: 3.6140\n",
      "Epoch 00006: val_loss did not improve from 3.01595\n",
      "93/93 [==============================] - 3s 27ms/step - loss: 3.6135 - val_loss: 3.7685\n",
      "Epoch 7/20\n",
      "91/93 [============================>.] - ETA: 0s - loss: 3.5079\n",
      "Epoch 00007: val_loss did not improve from 3.01595\n",
      "93/93 [==============================] - 3s 28ms/step - loss: 3.5076 - val_loss: 3.7583\n",
      "Epoch 8/20\n",
      "93/93 [==============================] - ETA: 0s - loss: 3.4373\n",
      "Epoch 00008: val_loss did not improve from 3.01595\n",
      "93/93 [==============================] - 2s 26ms/step - loss: 3.4373 - val_loss: 3.6493\n",
      "Epoch 9/20\n",
      "91/93 [============================>.] - ETA: 0s - loss: 3.3440\n",
      "Epoch 00009: val_loss did not improve from 3.01595\n",
      "93/93 [==============================] - 2s 25ms/step - loss: 3.3483 - val_loss: 3.6159\n",
      "Epoch 10/20\n",
      "91/93 [============================>.] - ETA: 0s - loss: 3.2751\n",
      "Epoch 00010: val_loss did not improve from 3.01595\n",
      "93/93 [==============================] - 3s 27ms/step - loss: 3.2739 - val_loss: 3.5671\n",
      "Epoch 11/20\n",
      "93/93 [==============================] - ETA: 0s - loss: 3.2202\n",
      "Epoch 00011: val_loss did not improve from 3.01595\n",
      "93/93 [==============================] - 2s 26ms/step - loss: 3.2202 - val_loss: 3.5352\n",
      "Epoch 12/20\n",
      "92/93 [============================>.] - ETA: 0s - loss: 3.1433\n",
      "Epoch 00012: val_loss did not improve from 3.01595\n",
      "93/93 [==============================] - 2s 25ms/step - loss: 3.1423 - val_loss: 3.5190\n",
      "Epoch 13/20\n",
      "92/93 [============================>.] - ETA: 0s - loss: 3.0872\n",
      "Epoch 00013: val_loss did not improve from 3.01595\n",
      "93/93 [==============================] - 2s 27ms/step - loss: 3.0866 - val_loss: 3.4648\n",
      "Epoch 14/20\n",
      "93/93 [==============================] - ETA: 0s - loss: 3.0331\n",
      "Epoch 00014: val_loss did not improve from 3.01595\n",
      "93/93 [==============================] - 2s 26ms/step - loss: 3.0331 - val_loss: 3.4621\n",
      "Epoch 15/20\n",
      "91/93 [============================>.] - ETA: 0s - loss: 2.9615\n",
      "Epoch 00015: val_loss did not improve from 3.01595\n",
      "93/93 [==============================] - 2s 25ms/step - loss: 2.9623 - val_loss: 3.4066\n",
      "Epoch 16/20\n",
      "93/93 [==============================] - ETA: 0s - loss: 2.9313\n",
      "Epoch 00016: val_loss did not improve from 3.01595\n",
      "93/93 [==============================] - 2s 26ms/step - loss: 2.9313 - val_loss: 3.3976\n",
      "Epoch 17/20\n",
      "92/93 [============================>.] - ETA: 0s - loss: 2.8708\n",
      "Epoch 00017: val_loss did not improve from 3.01595\n",
      "93/93 [==============================] - 2s 26ms/step - loss: 2.8713 - val_loss: 3.3713\n",
      "Epoch 18/20\n",
      "92/93 [============================>.] - ETA: 0s - loss: 2.8174\n",
      "Epoch 00018: val_loss did not improve from 3.01595\n",
      "93/93 [==============================] - 2s 26ms/step - loss: 2.8187 - val_loss: 3.3395\n",
      "Epoch 19/20\n",
      "93/93 [==============================] - ETA: 0s - loss: 2.7719\n",
      "Epoch 00019: val_loss did not improve from 3.01595\n",
      "93/93 [==============================] - 2s 26ms/step - loss: 2.7719 - val_loss: 3.3126\n",
      "Epoch 20/20\n",
      "93/93 [==============================] - ETA: 0s - loss: 2.7191\n",
      "Epoch 00020: val_loss did not improve from 3.01595\n",
      "93/93 [==============================] - 2s 26ms/step - loss: 2.7191 - val_loss: 3.3245\n"
     ]
    }
   ],
   "source": [
    "history = model.fit(x_tr, y_tr,batch_size=128,epochs=20, validation_data=(x_val,y_val),verbose=1, callbacks=[mc])"
   ]
  },
  {
   "cell_type": "markdown",
   "source": [
    "## Increase depth of convolution network\n",
    "- Other articles show that more depth in the convolution layers and starting with smaller filter size helps to increase the quality of the music generation. See this [article](https://towardsdatascience.com/generating-piano-music-with-dilated-convolutional-neural-networks-d81d02e1dda6)"
   ],
   "metadata": {
    "collapsed": false,
    "pycharm": {
     "name": "#%% md\n"
    }
   }
  },
  {
   "cell_type": "code",
   "execution_count": 221,
   "outputs": [
    {
     "name": "stdout",
     "output_type": "stream",
     "text": [
      "Model: \"sequential\"\n",
      "_________________________________________________________________\n",
      "Layer (type)                 Output Shape              Param #   \n",
      "=================================================================\n",
      "embedding (Embedding)        (None, 32, 100)           22500     \n",
      "_________________________________________________________________\n",
      "conv1d (Conv1D)              (None, 32, 16)            4816      \n",
      "_________________________________________________________________\n",
      "dropout (Dropout)            (None, 32, 16)            0         \n",
      "_________________________________________________________________\n",
      "max_pooling1d (MaxPooling1D) (None, 16, 16)            0         \n",
      "_________________________________________________________________\n",
      "conv1d_1 (Conv1D)            (None, 16, 32)            1568      \n",
      "_________________________________________________________________\n",
      "dropout_1 (Dropout)          (None, 16, 32)            0         \n",
      "_________________________________________________________________\n",
      "max_pooling1d_1 (MaxPooling1 (None, 8, 32)             0         \n",
      "_________________________________________________________________\n",
      "conv1d_2 (Conv1D)            (None, 8, 64)             6208      \n",
      "_________________________________________________________________\n",
      "dropout_2 (Dropout)          (None, 8, 64)             0         \n",
      "_________________________________________________________________\n",
      "max_pooling1d_2 (MaxPooling1 (None, 4, 64)             0         \n",
      "_________________________________________________________________\n",
      "conv1d_3 (Conv1D)            (None, 4, 128)            24704     \n",
      "_________________________________________________________________\n",
      "dropout_3 (Dropout)          (None, 4, 128)            0         \n",
      "_________________________________________________________________\n",
      "max_pooling1d_3 (MaxPooling1 (None, 2, 128)            0         \n",
      "_________________________________________________________________\n",
      "conv1d_4 (Conv1D)            (None, 2, 256)            98560     \n",
      "_________________________________________________________________\n",
      "dropout_4 (Dropout)          (None, 2, 256)            0         \n",
      "_________________________________________________________________\n",
      "max_pooling1d_4 (MaxPooling1 (None, 1, 256)            0         \n",
      "_________________________________________________________________\n",
      "global_max_pooling1d (Global (None, 256)               0         \n",
      "_________________________________________________________________\n",
      "dense (Dense)                (None, 256)               65792     \n",
      "_________________________________________________________________\n",
      "dense_1 (Dense)              (None, 225)               57825     \n",
      "=================================================================\n",
      "Total params: 281,973\n",
      "Trainable params: 281,973\n",
      "Non-trainable params: 0\n",
      "_________________________________________________________________\n"
     ]
    }
   ],
   "source": [
    "K.clear_session()\n",
    "\n",
    "# ---- MODEL CREATION -----\n",
    "model2 = Sequential()\n",
    "\n",
    "# The embedding layer creates a dense vector of size (batch, no_of_timesteps, embedding_size)\n",
    "# Weights of the vector are trained during the training process.\n",
    "# The embedding layer allows to learn relationship between notes and chords and is used normally in the natural language processing domain.\n",
    "embedding_size = 100\n",
    "model2.add(Embedding(input_dim=len(unique_notes), output_dim=embedding_size, input_length=no_of_timesteps,trainable=True, embeddings_initializer='uniform'))\n",
    "\n",
    "# Creating the causal dilated convolutional layers\n",
    "# ------ ADDED LAYERS --------\n",
    "# LAYER 0.1\n",
    "model2.add(Conv1D(filters=16, kernel_size=3, padding='causal', dilation_rate=1, activation='relu', ))\n",
    "model2.add(Dropout(rate=0.1))\n",
    "model2.add(MaxPool1D(pool_size=2, padding='valid'))\n",
    "\n",
    "# 0.2\n",
    "model2.add(Conv1D(filters=32, kernel_size=3, padding='causal', dilation_rate=1, activation='relu', ))\n",
    "model2.add(Dropout(rate=0.1))\n",
    "model2.add(MaxPool1D(pool_size=2, padding='valid'))\n",
    "\n",
    "# ------------------------------------\n",
    "# First layer\n",
    "model2.add(Conv1D(filters=64, kernel_size=3, padding='causal', dilation_rate=1, activation='relu', ))\n",
    "model2.add(Dropout(rate=0.2))\n",
    "model2.add(MaxPool1D(pool_size=2, padding='valid'))\n",
    "\n",
    "# Second layer\n",
    "model2.add(Conv1D(filters=128, kernel_size=3, activation='relu',dilation_rate=2,padding='causal'))\n",
    "model2.add(Dropout(rate=0.2))\n",
    "model2.add(MaxPool1D(pool_size=2, padding='valid'))\n",
    "\n",
    "# Third layer\n",
    "model2.add(Conv1D(filters=256, kernel_size=3, activation='relu',dilation_rate=4,padding='causal'))\n",
    "model2.add(Dropout(rate=0.2))\n",
    "model2.add(MaxPool1D(pool_size=2, padding='valid'))\n",
    "\n",
    "# Downsample the input by taking hte maximum value\n",
    "model2.add(GlobalMaxPool1D())\n",
    "\n",
    "model2.add(Dense(256, activation='relu', ))\n",
    "model2.add(Dense(len(unique_notes), activation='softmax'))\n",
    "\n",
    "model2.compile(loss='sparse_categorical_crossentropy', optimizer='adam')\n",
    "\n",
    "model2.summary()"
   ],
   "metadata": {
    "collapsed": false,
    "pycharm": {
     "name": "#%%\n"
    }
   }
  },
  {
   "cell_type": "code",
   "execution_count": 222,
   "outputs": [
    {
     "name": "stdout",
     "output_type": "stream",
     "text": [
      "Epoch 1/20\n",
      "91/93 [============================>.] - ETA: 0s - loss: 4.6444\n",
      "Epoch 00001: val_loss improved from inf to 4.52399, saving model to best_model_depth2\n",
      "INFO:tensorflow:Assets written to: best_model_depth2\\assets\n",
      "93/93 [==============================] - 4s 41ms/step - loss: 4.6410 - val_loss: 4.5240\n",
      "Epoch 2/20\n",
      "91/93 [============================>.] - ETA: 0s - loss: 4.4403\n",
      "Epoch 00002: val_loss improved from 4.52399 to 4.52077, saving model to best_model_depth2\n",
      "INFO:tensorflow:Assets written to: best_model_depth2\\assets\n",
      "93/93 [==============================] - 4s 42ms/step - loss: 4.4390 - val_loss: 4.5208\n",
      "Epoch 3/20\n",
      "91/93 [============================>.] - ETA: 0s - loss: 4.4040\n",
      "Epoch 00003: val_loss did not improve from 4.52077\n",
      "93/93 [==============================] - 2s 22ms/step - loss: 4.4064 - val_loss: 4.5435\n",
      "Epoch 4/20\n",
      "91/93 [============================>.] - ETA: 0s - loss: 4.3563\n",
      "Epoch 00004: val_loss improved from 4.52077 to 4.44465, saving model to best_model_depth2\n",
      "INFO:tensorflow:Assets written to: best_model_depth2\\assets\n",
      "93/93 [==============================] - 4s 39ms/step - loss: 4.3567 - val_loss: 4.4447\n",
      "Epoch 5/20\n",
      "91/93 [============================>.] - ETA: 0s - loss: 4.2783\n",
      "Epoch 00005: val_loss improved from 4.44465 to 4.35053, saving model to best_model_depth2\n",
      "INFO:tensorflow:Assets written to: best_model_depth2\\assets\n",
      "93/93 [==============================] - 4s 41ms/step - loss: 4.2765 - val_loss: 4.3505\n",
      "Epoch 6/20\n",
      "91/93 [============================>.] - ETA: 0s - loss: 4.1586\n",
      "Epoch 00006: val_loss improved from 4.35053 to 4.28370, saving model to best_model_depth2\n",
      "INFO:tensorflow:Assets written to: best_model_depth2\\assets\n",
      "93/93 [==============================] - 4s 39ms/step - loss: 4.1577 - val_loss: 4.2837\n",
      "Epoch 7/20\n",
      "91/93 [============================>.] - ETA: 0s - loss: 4.0287\n",
      "Epoch 00007: val_loss improved from 4.28370 to 4.14210, saving model to best_model_depth2\n",
      "INFO:tensorflow:Assets written to: best_model_depth2\\assets\n",
      "93/93 [==============================] - 4s 40ms/step - loss: 4.0291 - val_loss: 4.1421\n",
      "Epoch 8/20\n",
      "91/93 [============================>.] - ETA: 0s - loss: 3.9294\n",
      "Epoch 00008: val_loss improved from 4.14210 to 4.10737, saving model to best_model_depth2\n",
      "INFO:tensorflow:Assets written to: best_model_depth2\\assets\n",
      "93/93 [==============================] - 4s 44ms/step - loss: 3.9263 - val_loss: 4.1074\n",
      "Epoch 9/20\n",
      "91/93 [============================>.] - ETA: 0s - loss: 3.8457\n",
      "Epoch 00009: val_loss improved from 4.10737 to 4.09844, saving model to best_model_depth2\n",
      "INFO:tensorflow:Assets written to: best_model_depth2\\assets\n",
      "93/93 [==============================] - 4s 40ms/step - loss: 3.8479 - val_loss: 4.0984\n",
      "Epoch 10/20\n",
      "91/93 [============================>.] - ETA: 0s - loss: 3.7752\n",
      "Epoch 00010: val_loss improved from 4.09844 to 3.95447, saving model to best_model_depth2\n",
      "INFO:tensorflow:Assets written to: best_model_depth2\\assets\n",
      "93/93 [==============================] - 4s 40ms/step - loss: 3.7762 - val_loss: 3.9545\n",
      "Epoch 11/20\n",
      "91/93 [============================>.] - ETA: 0s - loss: 3.7009\n",
      "Epoch 00011: val_loss improved from 3.95447 to 3.94172, saving model to best_model_depth2\n",
      "INFO:tensorflow:Assets written to: best_model_depth2\\assets\n",
      "93/93 [==============================] - 4s 40ms/step - loss: 3.7024 - val_loss: 3.9417\n",
      "Epoch 12/20\n",
      "91/93 [============================>.] - ETA: 0s - loss: 3.6600\n",
      "Epoch 00012: val_loss improved from 3.94172 to 3.88930, saving model to best_model_depth2\n",
      "INFO:tensorflow:Assets written to: best_model_depth2\\assets\n",
      "93/93 [==============================] - 4s 39ms/step - loss: 3.6621 - val_loss: 3.8893\n",
      "Epoch 13/20\n",
      "91/93 [============================>.] - ETA: 0s - loss: 3.6035\n",
      "Epoch 00013: val_loss improved from 3.88930 to 3.88607, saving model to best_model_depth2\n",
      "INFO:tensorflow:Assets written to: best_model_depth2\\assets\n",
      "93/93 [==============================] - 4s 39ms/step - loss: 3.6045 - val_loss: 3.8861\n",
      "Epoch 14/20\n",
      "91/93 [============================>.] - ETA: 0s - loss: 3.5596\n",
      "Epoch 00014: val_loss improved from 3.88607 to 3.81640, saving model to best_model_depth2\n",
      "INFO:tensorflow:Assets written to: best_model_depth2\\assets\n",
      "93/93 [==============================] - 4s 45ms/step - loss: 3.5615 - val_loss: 3.8164\n",
      "Epoch 15/20\n",
      "91/93 [============================>.] - ETA: 0s - loss: 3.5048\n",
      "Epoch 00015: val_loss improved from 3.81640 to 3.78874, saving model to best_model_depth2\n",
      "INFO:tensorflow:Assets written to: best_model_depth2\\assets\n",
      "93/93 [==============================] - 4s 39ms/step - loss: 3.5050 - val_loss: 3.7887\n",
      "Epoch 16/20\n",
      "91/93 [============================>.] - ETA: 0s - loss: 3.4733\n",
      "Epoch 00016: val_loss improved from 3.78874 to 3.74362, saving model to best_model_depth2\n",
      "INFO:tensorflow:Assets written to: best_model_depth2\\assets\n",
      "93/93 [==============================] - 4s 40ms/step - loss: 3.4727 - val_loss: 3.7436\n",
      "Epoch 17/20\n",
      "91/93 [============================>.] - ETA: 0s - loss: 3.4480\n",
      "Epoch 00017: val_loss improved from 3.74362 to 3.69312, saving model to best_model_depth2\n",
      "INFO:tensorflow:Assets written to: best_model_depth2\\assets\n",
      "93/93 [==============================] - 4s 39ms/step - loss: 3.4470 - val_loss: 3.6931\n",
      "Epoch 18/20\n",
      "93/93 [==============================] - ETA: 0s - loss: 3.4191\n",
      "Epoch 00018: val_loss did not improve from 3.69312\n",
      "93/93 [==============================] - 2s 23ms/step - loss: 3.4191 - val_loss: 3.7156\n",
      "Epoch 19/20\n",
      "91/93 [============================>.] - ETA: 0s - loss: 3.3805\n",
      "Epoch 00019: val_loss did not improve from 3.69312\n",
      "93/93 [==============================] - 2s 22ms/step - loss: 3.3812 - val_loss: 3.7207\n",
      "Epoch 20/20\n",
      "91/93 [============================>.] - ETA: 0s - loss: 3.3585\n",
      "Epoch 00020: val_loss improved from 3.69312 to 3.67377, saving model to best_model_depth2\n",
      "INFO:tensorflow:Assets written to: best_model_depth2\\assets\n",
      "93/93 [==============================] - 4s 39ms/step - loss: 3.3562 - val_loss: 3.6738\n"
     ]
    }
   ],
   "source": [
    "# Run the model and save the best model\n",
    "mc = ModelCheckpoint('best_model_depth2', monitor='val_loss', mode='min', save_best_only=True, verbose=1)\n",
    "history = model2.fit(x_tr, y_tr, batch_size=128, epochs=20, validation_data=(x_val, y_val), verbose=1, callbacks=[mc])"
   ],
   "metadata": {
    "collapsed": false,
    "pycharm": {
     "name": "#%%\n"
    }
   }
  },
  {
   "cell_type": "markdown",
   "source": [
    "## LSTM Prediction\n",
    "- Instead of using convolution layers, let us see how it works with LSTM layers\n"
   ],
   "metadata": {
    "collapsed": false,
    "pycharm": {
     "name": "#%% md\n"
    }
   }
  },
  {
   "cell_type": "code",
   "execution_count": 14,
   "outputs": [
    {
     "name": "stdout",
     "output_type": "stream",
     "text": [
      "Model: \"sequential\"\n",
      "_________________________________________________________________\n",
      "Layer (type)                 Output Shape              Param #   \n",
      "=================================================================\n",
      "embedding (Embedding)        (None, 32, 100)           22500     \n",
      "_________________________________________________________________\n",
      "lstm (LSTM)                  (None, 128)               117248    \n",
      "_________________________________________________________________\n",
      "dense (Dense)                (None, 256)               33024     \n",
      "_________________________________________________________________\n",
      "dense_1 (Dense)              (None, 225)               57825     \n",
      "=================================================================\n",
      "Total params: 230,597\n",
      "Trainable params: 230,597\n",
      "Non-trainable params: 0\n",
      "_________________________________________________________________\n"
     ]
    }
   ],
   "source": [
    "# Simple LSTM model\n",
    "K.clear_session()\n",
    "\n",
    "# ---- MODEL CREATION -----\n",
    "model3 = Sequential()\n",
    "model3.add(Embedding(input_dim=len(unique_notes), output_dim=embedding_size, input_length=no_of_timesteps,trainable=True, embeddings_initializer='uniform'))\n",
    "model3.add(LSTM(units=128, return_sequences=False))\n",
    "model3.add(Dense(units=256, activation='relu'))\n",
    "model3.add(Dense(units=len(unique_notes), activation='softmax'))\n",
    "model3.compile(loss='sparse_categorical_crossentropy', optimizer='adam')\n",
    "model3.summary()"
   ],
   "metadata": {
    "collapsed": false,
    "pycharm": {
     "name": "#%%\n"
    }
   }
  },
  {
   "cell_type": "code",
   "execution_count": null,
   "outputs": [],
   "source": [
    "# Run the model and save the best model\n",
    "mc = ModelCheckpoint('best_model_lstm', monitor='val_loss', mode='min', save_best_only=True, verbose=1)\n",
    "history = model3.fit(x_tr, y_tr, batch_size=128, epochs=20, validation_data=(x_val, y_val), verbose=1, callbacks=[mc])"
   ],
   "metadata": {
    "collapsed": false,
    "pycharm": {
     "name": "#%%\n",
     "is_executing": true
    }
   }
  },
  {
   "cell_type": "markdown",
   "source": [
    "## Make predictions using the best model obtained"
   ],
   "metadata": {
    "collapsed": false,
    "pycharm": {
     "name": "#%% md\n"
    }
   }
  },
  {
   "cell_type": "markdown",
   "source": [
    "Load the best model to create the upcoming musics.  (best model for the 3 different approaches shown)"
   ],
   "metadata": {
    "collapsed": false,
    "pycharm": {
     "name": "#%% md\n"
    }
   }
  },
  {
   "cell_type": "code",
   "execution_count": 223,
   "id": "b577243c",
   "metadata": {
    "pycharm": {
     "name": "#%%\n"
    }
   },
   "outputs": [],
   "source": [
    "# Loading\n",
    "from tensorflow.keras.models import load_model\n",
    "model = load_model('best_model_depth2')"
   ]
  },
  {
   "cell_type": "markdown",
   "source": [
    "To make a music, we use a random segment of a music from the validation dataset and then the model will predict the next notes over and over again."
   ],
   "metadata": {
    "collapsed": false,
    "pycharm": {
     "name": "#%% md\n"
    }
   }
  },
  {
   "cell_type": "markdown",
   "source": [
    "### Simple prediction\n",
    "- Using a segment of size 32, we predict the next 32 notes/chords of the music by using the highest predicted note"
   ],
   "metadata": {
    "collapsed": false,
    "pycharm": {
     "name": "#%% md\n"
    }
   }
  },
  {
   "cell_type": "code",
   "execution_count": 224,
   "id": "412df988",
   "metadata": {
    "pycharm": {
     "name": "#%%\n"
    }
   },
   "outputs": [
    {
     "name": "stdout",
     "output_type": "stream",
     "text": [
      "[115 213 187 115 213 187 115 203 187 115 193 187 111 188 187 111 178 187\n",
      " 111 193 187 111 188 186  97 188 187  97 178 187 111 193]\n",
      "[187, 111, 193, 187, 111, 193, 187, 111, 178, 187, 111, 188, 187, 111, 188, 187, 111, 193, 187, 111, 193, 187, 111, 189, 187, 111, 193, 188, 111, 189, 188, 111]\n"
     ]
    }
   ],
   "source": [
    "np.random.seed(0)\n",
    "ind = np.random.randint(0,len(x_val)-1)\n",
    "initial_music = x_val[ind]  # will not change in the code\n",
    "random_music = x_val[ind]  # will change during the creation of the music (first notes removed)\n",
    "\n",
    "predictions=[]\n",
    "for i in range(32):  # we will predict the second half of the song.\n",
    "\n",
    "    random_music = random_music.reshape(1,no_of_timesteps)\n",
    "\n",
    "    prob  = model.predict(random_music)[0]\n",
    "    y_pred= np.argmax(prob,axis=0)\n",
    "    predictions.append(y_pred)\n",
    "\n",
    "    random_music = np.insert(random_music[0],len(random_music[0]),y_pred)\n",
    "    random_music = random_music[1:]\n",
    "\n",
    "print(initial_music)\n",
    "print(predictions)"
   ]
  },
  {
   "cell_type": "markdown",
   "source": [
    "Transform back into notes:"
   ],
   "metadata": {
    "collapsed": false,
    "pycharm": {
     "name": "#%% md\n"
    }
   }
  },
  {
   "cell_type": "code",
   "execution_count": 225,
   "outputs": [],
   "source": [
    "int_to_note = dict((number, note_) for number, note_ in enumerate(unique_notes))\n",
    "def create_music(note_int):\n",
    "    notes = [int_to_note[i] for i in note_int]\n",
    "    return notes"
   ],
   "metadata": {
    "collapsed": false,
    "pycharm": {
     "name": "#%%\n"
    }
   }
  },
  {
   "cell_type": "code",
   "execution_count": 226,
   "id": "88712601",
   "metadata": {
    "pycharm": {
     "name": "#%%\n"
    }
   },
   "outputs": [],
   "source": [
    "# Creating the predicted notes with the function\n",
    "predicted_notes = create_music(predictions)"
   ]
  },
  {
   "cell_type": "markdown",
   "source": [
    "Convert notes into MIDI file"
   ],
   "metadata": {
    "collapsed": false,
    "pycharm": {
     "name": "#%% md\n"
    }
   }
  },
  {
   "cell_type": "code",
   "execution_count": 227,
   "id": "2f1fb29a",
   "metadata": {
    "pycharm": {
     "name": "#%%\n"
    }
   },
   "outputs": [],
   "source": [
    "def convert_to_midi(prediction_output, name):\n",
    "   \n",
    "    offset = 0\n",
    "    output_notes = []\n",
    "\n",
    "    # create note and chord objects based on the values generated by the model\n",
    "    for pattern in prediction_output:\n",
    "        \n",
    "        # pattern is a chord\n",
    "        if ('.' in pattern) or pattern.isdigit():\n",
    "            notes_in_chord = pattern.split('.')\n",
    "            notes = []\n",
    "            for current_note in notes_in_chord:\n",
    "                \n",
    "                cn=int(current_note)\n",
    "                new_note = note.Note(cn)\n",
    "                new_note.storedInstrument = instrument.Piano()\n",
    "                notes.append(new_note)\n",
    "                \n",
    "            new_chord = chord.Chord(notes)\n",
    "            new_chord.offset = offset\n",
    "            output_notes.append(new_chord)\n",
    "            \n",
    "        # pattern is a note\n",
    "        else:\n",
    "            \n",
    "            new_note = note.Note(pattern)\n",
    "            new_note.offset = offset\n",
    "            new_note.storedInstrument = instrument.Piano()\n",
    "            output_notes.append(new_note)\n",
    "\n",
    "        # increase offset each iteration so that notes do not stack\n",
    "        offset += 1\n",
    "    midi_stream = stream.Stream(output_notes, tempo=120)\n",
    "    midi_stream.write('midi', fp=name+'.mid')"
   ]
  },
  {
   "cell_type": "code",
   "execution_count": 228,
   "id": "3e38af04",
   "metadata": {
    "pycharm": {
     "name": "#%%\n"
    }
   },
   "outputs": [],
   "source": [
    "convert_to_midi(predicted_notes, name='base_32_2')\n",
    "convert_to_midi(create_music(initial_music)+predicted_notes, name=\"base_64_2\")"
   ]
  },
  {
   "cell_type": "markdown",
   "source": [
    "### Make a random decision out of the best notes\n",
    "- Similar to in Reinforcement Learning, we want to perform some exploration to allow for more original creation."
   ],
   "metadata": {
    "collapsed": false,
    "pycharm": {
     "name": "#%% md\n"
    }
   }
  },
  {
   "cell_type": "code",
   "execution_count": 229,
   "outputs": [
    {
     "name": "stdout",
     "output_type": "stream",
     "text": [
      "[115 213 187 115 213 187 115 203 187 115 193 187 111 188 187 111 178 187\n",
      " 111 193 187 111 188 186  97 188 187  97 178 187 111 193]\n",
      "[187, 111, 193, 187, 111, 193, 187, 194, 178, 187, 111, 188, 187, 16, 188, 187, 193, 218, 187, 111, 178, 187, 72, 178, 187, 111, 14, 178, 111, 188, 211, 111]\n"
     ]
    }
   ],
   "source": [
    "# Hyper parameters:\n",
    "epsilon = 0.2\n",
    "top_n = 20\n",
    "\n",
    "random_music = initial_music\n",
    "predictions=[]\n",
    "for i in range(32):  # we will predict the second half of the song.\n",
    "\n",
    "    random_music = random_music.reshape(1,no_of_timesteps)\n",
    "\n",
    "    # Check the probabilities\n",
    "    prob  = model.predict(random_music)[0]\n",
    "    prob_n = np.argsort(prob)[-top_n:]  # top n notes\n",
    "\n",
    "    # Select the note\n",
    "    rand = np.random.random()\n",
    "    if rand>epsilon:\n",
    "        # Pick best note\n",
    "        y_pred= np.argmax(prob,axis=0)\n",
    "    else:\n",
    "        # Pick random note\n",
    "        y_pred = prob_n[np.random.randint(0, len(prob_n))]\n",
    "\n",
    "    # Prediction\n",
    "    predictions.append(y_pred)\n",
    "\n",
    "    # Change the random music size and length with the new note\n",
    "    random_music = np.insert(random_music[0],len(random_music[0]),y_pred)\n",
    "    random_music = random_music[1:]\n",
    "\n",
    "print(initial_music)\n",
    "print(predictions)"
   ],
   "metadata": {
    "collapsed": false,
    "pycharm": {
     "name": "#%%\n"
    }
   }
  },
  {
   "cell_type": "code",
   "execution_count": 230,
   "outputs": [],
   "source": [
    "predicted_notes_e = create_music(predictions)"
   ],
   "metadata": {
    "collapsed": false,
    "pycharm": {
     "name": "#%%\n"
    }
   }
  },
  {
   "cell_type": "code",
   "execution_count": 231,
   "outputs": [],
   "source": [
    "# Export\n",
    "convert_to_midi(predicted_notes_e, name='epsilon_32_2')\n",
    "convert_to_midi(create_music(initial_music)+predicted_notes_e, name=\"epsilon_64_2\")"
   ],
   "metadata": {
    "collapsed": false,
    "pycharm": {
     "name": "#%%\n"
    }
   }
  },
  {
   "cell_type": "markdown",
   "source": [
    "### Beam Search\n",
    "- We'll look two notes away and see what is the highest prediction and based on that, select the current note."
   ],
   "metadata": {
    "collapsed": false,
    "pycharm": {
     "name": "#%% md\n"
    }
   }
  },
  {
   "cell_type": "code",
   "execution_count": 232,
   "outputs": [
    {
     "name": "stdout",
     "output_type": "stream",
     "text": [
      "[115 213 187 115 213 187 115 203 187 115 193 187 111 188 187 111 178 187\n",
      " 111 193 187 111 188 186  97 188 187  97 178 187 111 193]\n",
      "[187, 111, 193, 187, 97, 193, 187, 111, 178, 187, 111, 188, 187, 111, 188, 187, 111, 193, 187, 111, 193, 187, 111, 189, 187, 111, 193, 188, 111, 189, 188, 111]\n"
     ]
    }
   ],
   "source": [
    "# Perform a beam search with looking two notes ahead.\n",
    "\n",
    "level_1 = 5  # beam search first level limited scope\n",
    "predictions=[]\n",
    "random_music = initial_music\n",
    "for i in range(32):  # we will predict the second half of the song.\n",
    "\n",
    "    random_music = random_music.reshape(1,no_of_timesteps)\n",
    "\n",
    "    # Check the probabilities\n",
    "    prob  = model.predict(random_music)[0]\n",
    "    prob_n_notes = np.argsort(prob)[-level_1:]  # the notes with the highest probabilities.\n",
    "    prob_n = np.sort(prob)[-level_1:]  # the probabilities\n",
    "\n",
    "    # Perform the beam search: Check the next predictions to check what is the highest probability path.\n",
    "    max_prob_path = {}  # key is the following y_pred and value is the probability\n",
    "    for prob, note_ in zip(prob_n, prob_n_notes):\n",
    "        # Create the new temporary music path\n",
    "        random_music_temp = np.insert(random_music[0], len(random_music[0]), note_)\n",
    "        random_music_temp = random_music_temp[1:].reshape((1,-1))\n",
    "\n",
    "        # Re-run the prediction after this note selection\n",
    "        prob2 = model.predict(random_music_temp)[0]\n",
    "\n",
    "        # Select the top\n",
    "        prob2_max = np.max(prob2)\n",
    "\n",
    "        # Joint probability\n",
    "        joint = prob * prob2_max\n",
    "\n",
    "        # Append in dictionary\n",
    "        max_prob_path[note_] = joint\n",
    "\n",
    "    # Select the note from the maximum joint path\n",
    "    y_pred = max(max_prob_path, key=max_prob_path.get)\n",
    "\n",
    "    # Actual Prediction\n",
    "    predictions.append(y_pred)\n",
    "\n",
    "    # Change the random music size and length with the new note\n",
    "    random_music = np.insert(random_music[0],len(random_music[0]),y_pred)\n",
    "    random_music = random_music[1:]\n",
    "\n",
    "print(initial_music)\n",
    "print(predictions)"
   ],
   "metadata": {
    "collapsed": false,
    "pycharm": {
     "name": "#%%\n"
    }
   }
  },
  {
   "cell_type": "code",
   "execution_count": 234,
   "outputs": [],
   "source": [
    "predicted_notes_b = create_music(predictions)\n",
    "# Export\n",
    "convert_to_midi(predicted_notes_b, name='beam_32_2')\n",
    "convert_to_midi(create_music(initial_music) + predicted_notes_b, name=\"beam_64_2\")"
   ],
   "metadata": {
    "collapsed": false,
    "pycharm": {
     "name": "#%%\n"
    }
   }
  },
  {
   "cell_type": "markdown",
   "source": [
    "Very similar to the initial simple predictions meaning that the first highest prediction is usually the best path! This is pretty intuitive but if the beam search went further it might change the outcome which would be interesting to see."
   ],
   "metadata": {
    "collapsed": false,
    "pycharm": {
     "name": "#%% md\n"
    }
   }
  },
  {
   "cell_type": "markdown",
   "source": [
    "## Conclusion\n",
    "If we are a musician trying to discover new music style.  We could use different methods to change the way the music is created.  If we feed our initial composition, then we can explore with different hyper parameters, different suggested music that would help the creation process.  This is why we have shown three different methods to generate music after the model predictions.\n",
    "\n",
    "From the model predictions, we have seen that by adding depth in the convolution layers starting with smaller filter size really helped to have better music which represents beethoven more.  Granted, we are only comparing with 1 starting segment and we are no musical experts...\n",
    "\n",
    "### Limitations\n",
    "In our case, the sampling of the music was done note by note or chord by chord.  Ideally, we would want to develop a sampling on a time basis and have notes or no notes so the tempo would vary.  Also, the midi format has sound intensity which and other parameters which are removed.  Only the notes or chords from the piano channel is extracted so this is a very primitive model compared to other music generator such as MuseNet and Jukebox by OpenAI.\n",
    "\n",
    "### Future idea...\n",
    "Also, the way the creation works is by evaluating the accuracy of the model to predict the next note accurately.  But it would be interesting to analyse a way to generate pleasing music and to evaluate that outcome.  Difficult to say with no music background."
   ],
   "metadata": {
    "collapsed": false,
    "pycharm": {
     "name": "#%% md\n"
    }
   }
  }
 ],
 "metadata": {
  "kernelspec": {
   "display_name": "Python 3 (ipykernel)",
   "language": "python",
   "name": "python3"
  },
  "language_info": {
   "codemirror_mode": {
    "name": "ipython",
    "version": 3
   },
   "file_extension": ".py",
   "mimetype": "text/x-python",
   "name": "python",
   "nbconvert_exporter": "python",
   "pygments_lexer": "ipython3",
   "version": "3.8.8"
  }
 },
 "nbformat": 4,
 "nbformat_minor": 5
}